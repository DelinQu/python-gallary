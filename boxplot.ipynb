{
 "cells": [
  {
   "cell_type": "code",
   "execution_count": null,
   "id": "1be04f69",
   "metadata": {},
   "outputs": [],
   "source": [
    "box plot"
   ]
  },
  {
   "cell_type": "code",
   "execution_count": 1,
   "id": "685934eb",
   "metadata": {},
   "outputs": [],
   "source": [
    "import numpy as np\n",
    "import matplotlib.pyplot as plt\n",
    "import pandas as pd\n",
    "import seaborn as sns\n",
    "\n",
    "# generate dataframe for boxplot\n",
    "x, y, category = list(), list(), list()\n",
    "for i in range(5):\n",
    "    for j in range(10):\n",
    "        for k in ['Yes', 'No']:\n",
    "            x.append(i)\n",
    "            y.append(np.random.rand(1)[0])\n",
    "            category.append(k)\n",
    "\n",
    "df_for_boxplot = pd.DataFrame({\n",
    "    'X': x,\n",
    "    'Y': y,\n",
    "    'category': category\n",
    "})\n",
    "\n",
    "# generate data for line plot\n",
    "data_for_line_plot = np.arange(5)*0.2"
   ]
  },
  {
   "cell_type": "code",
   "execution_count": 4,
   "id": "fd6be094",
   "metadata": {},
   "outputs": [
    {
     "data": {
      "text/plain": [
       "Text(0.5, 1.0, 'title')"
      ]
     },
     "execution_count": 4,
     "metadata": {},
     "output_type": "execute_result"
    },
    {
     "data": {
      "image/png": "[encoded data removed]",
      "text/plain": [
       "<Figure size 432x288 with 1 Axes>"
      ]
     },
     "metadata": {},
     "output_type": "display_data"
    }
   ],
   "source": [
    "# box plot with seaborn\n",
    "sns.set_theme(style=\"ticks\", palette=\"pastel\")\n",
    "ax = sns.boxplot(x=\"X\", y=\"Y\", data=df_for_boxplot,\n",
    "                 hue=\"category\", palette=['r', 'g','b'])\n",
    "sns.despine(offset=10, trim=True)\n",
    "\n",
    "# get ticks and set xdata as tixks\n",
    "ticks = ax.get_xticks()\n",
    "pl = ax.plot(ticks, data_for_line_plot,'tab:orange', label=\"C\")\n",
    "\n",
    "# get the legend handles and set legand\n",
    "handles, _ = ax.get_legend_handles_labels()\n",
    "ax.legend(handles=handles, labels=['A','B','C'], loc='upper left')\n",
    "\n",
    "ax.set_xlabel('xlabel')\n",
    "ax.set_ylabel('ylabel')\n",
    "ax.set_title('title')"
   ]
  }
 ],
 "metadata": {
  "kernelspec": {
   "display_name": "Python 3 (ipykernel)",
   "language": "python",
   "name": "python3"
  },
  "language_info": {
   "codemirror_mode": {
    "name": "ipython",
    "version": 3
   },
   "file_extension": ".py",
   "mimetype": "text/x-python",
   "name": "python",
   "nbconvert_exporter": "python",
   "pygments_lexer": "ipython3",
   "version": "3.8.10"
  }
 },
 "nbformat": 4,
 "nbformat_minor": 5
}
